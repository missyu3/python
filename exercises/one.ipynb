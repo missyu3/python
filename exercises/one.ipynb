{
 "cells": [
  {
   "cell_type": "markdown",
   "metadata": {},
   "source": [
    "## Exercises\n",
    "Q: リストを引数にして、各要素に、\"_<その要素のIndex番号>.png\"を付けたリストを返す関数\n",
    "\n",
    "[\"filename1\",\"filename2\",\"filename3\"]が[\"filename1_0.png\",\"filename2_1.png\",\"filename3_3.png\"]になる"
   ]
  },
  {
   "cell_type": "code",
   "execution_count": 1,
   "metadata": {},
   "outputs": [],
   "source": [
    "file_names = [\"filename1\",\"filename2\",\"filename3\"]"
   ]
  },
  {
   "cell_type": "code",
   "execution_count": 31,
   "metadata": {},
   "outputs": [],
   "source": [
    "def add_extension(file_list,extension = \".png\"):\n",
    "    \"\"\"\n",
    "    各要素にインデックス番号と拡張子を加えたリストを返します。\n",
    "    [\"filename1\",\"filename2\",\"filename3\"] => [\"filename1_0.png\",\"filename2_1.png\",\"filename3_3.png\"]になる\n",
    "    Parameters\n",
    "    -------\n",
    "        file_list: ファイル名のリスト\n",
    "        extension: 拡張子\n",
    "        \n",
    "    Return\n",
    "    -------\n",
    "        return: 各要素にインデックス番号と拡張子を加えたリストを返します。\n",
    "    \"\"\"\n",
    "#     list = []\n",
    "#     for key , file in enumerate(file_list):\n",
    "#         list.append(\"{}_{}.png\".format(file,key))\n",
    "#     return list\n",
    "    return [\"{}_{}{}\".format(file,key,extension) for key,file in enumerate(file_list)]\n",
    " "
   ]
  },
  {
   "cell_type": "code",
   "execution_count": 34,
   "metadata": {},
   "outputs": [
    {
     "name": "stdout",
     "output_type": "stream",
     "text": [
      "['filename1_0.exe', 'filename2_1.exe', 'filename3_2.exe']\n"
     ]
    }
   ],
   "source": [
    "print(add_extension(file_names,\".exe\"))"
   ]
  },
  {
   "cell_type": "code",
   "execution_count": null,
   "metadata": {},
   "outputs": [],
   "source": []
  }
 ],
 "metadata": {
  "kernelspec": {
   "display_name": "Python 3",
   "language": "python",
   "name": "python3"
  },
  "language_info": {
   "codemirror_mode": {
    "name": "ipython",
    "version": 3
   },
   "file_extension": ".py",
   "mimetype": "text/x-python",
   "name": "python",
   "nbconvert_exporter": "python",
   "pygments_lexer": "ipython3",
   "version": "3.7.6"
  }
 },
 "nbformat": 4,
 "nbformat_minor": 4
}
