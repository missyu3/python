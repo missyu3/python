{
 "cells": [
  {
   "cell_type": "markdown",
   "metadata": {},
   "source": [
    "### Loop"
   ]
  },
  {
   "cell_type": "code",
   "execution_count": 5,
   "metadata": {},
   "outputs": [
    {
     "name": "stdout",
     "output_type": "stream",
     "text": [
      "red is NOT my favorite\n",
      "blue is my favorite\n",
      "green is NOT my favorite\n",
      "yello is NOT my favorite\n",
      "white is NOT my favorite\n"
     ]
    }
   ],
   "source": [
    "colors = [\"red\",\"blue\",\"green\",\"yello\",\"white\"]\n",
    "for color in colors:\n",
    "    favorite_color = \"blue\"\n",
    "    if color == favorite_color:\n",
    "        print(\"{} is my favorite\".format(color))\n",
    "    else:\n",
    "        print(\"{} is NOT my favorite\".format(color))\n"
   ]
  },
  {
   "cell_type": "code",
   "execution_count": 11,
   "metadata": {},
   "outputs": [
    {
     "name": "stdout",
     "output_type": "stream",
     "text": [
      "0\n",
      "1\n",
      "2\n",
      "3\n",
      "4\n",
      "5\n",
      "6\n",
      "7\n",
      "8\n",
      "9\n"
     ]
    }
   ],
   "source": [
    "for i in (range(10)):\n",
    "    print(i)"
   ]
  },
  {
   "cell_type": "code",
   "execution_count": 13,
   "metadata": {},
   "outputs": [
    {
     "name": "stdout",
     "output_type": "stream",
     "text": [
      "0:red is NOT my favorite\n",
      "1:blue is my favorite\n",
      "2:green is NOT my favorite\n",
      "3:yello is NOT my favorite\n",
      "4:white is NOT my favorite\n"
     ]
    }
   ],
   "source": [
    "for ids,color in enumerate(colors):\n",
    "    favorite_color = \"blue\"\n",
    "    if color == favorite_color:\n",
    "        print(\"{}:{} is my favorite\".format(ids,color))\n",
    "    else:\n",
    "        print(\"{}:{} is NOT my favorite\".format(ids,color))"
   ]
  },
  {
   "cell_type": "code",
   "execution_count": 14,
   "metadata": {},
   "outputs": [],
   "source": [
    "colors = [\"red\",\"blue\",\"green\",\"yello\",\"white\"]\n",
    "colors_png = [\"red.png\",\"blue.png\",\"green.png\",\"yello.png\",\"white.png\"]\n"
   ]
  },
  {
   "cell_type": "code",
   "execution_count": 19,
   "metadata": {},
   "outputs": [],
   "source": [
    "for color in colors:\n",
    "    color_png = color + \".png\"\n",
    "    colors_png.append(color_png)"
   ]
  },
  {
   "cell_type": "code",
   "execution_count": 20,
   "metadata": {},
   "outputs": [
    {
     "data": {
      "text/plain": [
       "['red.png',\n",
       " 'blue.png',\n",
       " 'green.png',\n",
       " 'yello.png',\n",
       " 'white.png',\n",
       " 'red.png',\n",
       " 'blue.png',\n",
       " 'green.png',\n",
       " 'yello.png',\n",
       " 'white.png']"
      ]
     },
     "execution_count": 20,
     "metadata": {},
     "output_type": "execute_result"
    }
   ],
   "source": [
    "colors_png"
   ]
  },
  {
   "cell_type": "code",
   "execution_count": 21,
   "metadata": {},
   "outputs": [
    {
     "data": {
      "text/plain": [
       "['red.png', 'blue.png', 'green.png', 'yello.png', 'white.png']"
      ]
     },
     "execution_count": 21,
     "metadata": {},
     "output_type": "execute_result"
    }
   ],
   "source": [
    "[ color + \".png\" for color in colors]"
   ]
  },
  {
   "cell_type": "code",
   "execution_count": null,
   "metadata": {},
   "outputs": [],
   "source": []
  }
 ],
 "metadata": {
  "kernelspec": {
   "display_name": "Python 3",
   "language": "python",
   "name": "python3"
  },
  "language_info": {
   "codemirror_mode": {
    "name": "ipython",
    "version": 3
   },
   "file_extension": ".py",
   "mimetype": "text/x-python",
   "name": "python",
   "nbconvert_exporter": "python",
   "pygments_lexer": "ipython3",
   "version": "3.7.6"
  }
 },
 "nbformat": 4,
 "nbformat_minor": 4
}
