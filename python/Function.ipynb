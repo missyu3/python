{
 "cells": [
  {
   "cell_type": "markdown",
   "metadata": {},
   "source": [
    "## 関数（Function）"
   ]
  },
  {
   "cell_type": "code",
   "execution_count": 12,
   "metadata": {},
   "outputs": [],
   "source": [
    "def function_name(param1,param2,param3=\"not arg3\"):\n",
    "    '''\n",
    "    関数の説明を記載する。\n",
    "    \n",
    "    Usage\n",
    "    ーーーーーーーーーーー\n",
    "        age1 = \"argument1\"\n",
    "        age2 = \"argument2\"\n",
    "        function_name(arg1,arg2)\n",
    "\n",
    "    Parameters\n",
    "    ーーーーーーーーーーー\n",
    "        param1: example param1\n",
    "        param2: example param2\n",
    "\n",
    "    Returns\n",
    "    ーーーーーーーーーーー\n",
    "        strings: param1 and param2\n",
    "    '''\n",
    "    print(\"Do something for {} and {}\".format(param1,param2))\n",
    "    return param1 + \" and \" + param2 + \" and \" + param3"
   ]
  },
  {
   "cell_type": "code",
   "execution_count": 6,
   "metadata": {},
   "outputs": [
    {
     "name": "stdout",
     "output_type": "stream",
     "text": [
      "Do something for argument1 and argument2\n"
     ]
    }
   ],
   "source": [
    "arg1 = \"argument1\"\n",
    "arg2 = \"argument2\"\n",
    "func_return = function_name(arg1,arg2)"
   ]
  },
  {
   "cell_type": "code",
   "execution_count": 7,
   "metadata": {},
   "outputs": [
    {
     "data": {
      "text/plain": [
       "'argument1 and argument2'"
      ]
     },
     "execution_count": 7,
     "metadata": {},
     "output_type": "execute_result"
    }
   ],
   "source": [
    "func_return"
   ]
  },
  {
   "cell_type": "markdown",
   "metadata": {},
   "source": [
    "_は最後に実行された関数の戻り値が格納されている。"
   ]
  },
  {
   "cell_type": "code",
   "execution_count": 9,
   "metadata": {},
   "outputs": [
    {
     "name": "stdout",
     "output_type": "stream",
     "text": [
      "Do something for argument1 and argument2\n",
      "hellow world\n"
     ]
    }
   ],
   "source": [
    "arg1 = \"argument1\"\n",
    "arg2 = \"argument2\"\n",
    "function_name(arg1,arg2)\n",
    "print(\"hellow world\")"
   ]
  },
  {
   "cell_type": "code",
   "execution_count": 10,
   "metadata": {},
   "outputs": [
    {
     "data": {
      "text/plain": [
       "'argument1 and argument2'"
      ]
     },
     "execution_count": 10,
     "metadata": {},
     "output_type": "execute_result"
    }
   ],
   "source": [
    "_"
   ]
  },
  {
   "cell_type": "code",
   "execution_count": 13,
   "metadata": {},
   "outputs": [
    {
     "name": "stdout",
     "output_type": "stream",
     "text": [
      "Do something for arg1 and arg2\n"
     ]
    },
    {
     "data": {
      "text/plain": [
       "'arg1 and arg2 and not arg3'"
      ]
     },
     "execution_count": 13,
     "metadata": {},
     "output_type": "execute_result"
    }
   ],
   "source": [
    "function_name(param1= \"arg1\",param2 = \"arg2\")"
   ]
  },
  {
   "cell_type": "code",
   "execution_count": null,
   "metadata": {},
   "outputs": [],
   "source": []
  }
 ],
 "metadata": {
  "kernelspec": {
   "display_name": "Python 3",
   "language": "python",
   "name": "python3"
  },
  "language_info": {
   "codemirror_mode": {
    "name": "ipython",
    "version": 3
   },
   "file_extension": ".py",
   "mimetype": "text/x-python",
   "name": "python",
   "nbconvert_exporter": "python",
   "pygments_lexer": "ipython3",
   "version": "3.7.6"
  }
 },
 "nbformat": 4,
 "nbformat_minor": 4
}
