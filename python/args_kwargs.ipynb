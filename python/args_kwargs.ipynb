{
 "cells": [
  {
   "cell_type": "code",
   "execution_count": 1,
   "metadata": {},
   "outputs": [],
   "source": [
    "def func1(a,b):\n",
    "    return a + b"
   ]
  },
  {
   "cell_type": "code",
   "execution_count": 2,
   "metadata": {},
   "outputs": [],
   "source": [
    "def func2(*args):\n",
    "    \"\"\"\n",
    "    *argsはTaple型になる\n",
    "    \n",
    "    \"\"\"\n",
    "    return args[0] + args[1]"
   ]
  },
  {
   "cell_type": "code",
   "execution_count": 3,
   "metadata": {},
   "outputs": [
    {
     "data": {
      "text/plain": [
       "4"
      ]
     },
     "execution_count": 3,
     "metadata": {},
     "output_type": "execute_result"
    }
   ],
   "source": [
    "func1(1,3)"
   ]
  },
  {
   "cell_type": "code",
   "execution_count": 4,
   "metadata": {},
   "outputs": [
    {
     "data": {
      "text/plain": [
       "4"
      ]
     },
     "execution_count": 4,
     "metadata": {},
     "output_type": "execute_result"
    }
   ],
   "source": [
    "func2(1,3)"
   ]
  },
  {
   "cell_type": "code",
   "execution_count": 25,
   "metadata": {},
   "outputs": [],
   "source": [
    "def return_only_png(*filenames):\n",
    "    list = []\n",
    "    for file in filenames:\n",
    "        if file[-4:] == \".png\" :\n",
    "            list.append(file)\n",
    "    return list"
   ]
  },
  {
   "cell_type": "code",
   "execution_count": 26,
   "metadata": {},
   "outputs": [
    {
     "data": {
      "text/plain": [
       "['image1.png', 'image3.png']"
      ]
     },
     "execution_count": 26,
     "metadata": {},
     "output_type": "execute_result"
    }
   ],
   "source": [
    "# \"image1.png\",\"image2.jpg\",\"image3/png\"\n",
    "return_only_png(\"image1.png\",\"image2.jpg\",\"image3.png\")"
   ]
  },
  {
   "cell_type": "code",
   "execution_count": 32,
   "metadata": {},
   "outputs": [],
   "source": [
    "def print_dict(**kwargs):\n",
    "    \"\"\"\n",
    "    kwargs = keyword args\n",
    "    dictionary型でArgumentが入ってくる\n",
    "    \"\"\"\n",
    "    param_a = kwargs.get(\"a\")\n",
    "    param_b = kwargs.get(\"b\")\n",
    "    param_c = kwargs.get(\"c\")\n",
    "    param_d = kwargs.get(\"d\")\n",
    "    param_e = kwargs.get(\"e\")\n",
    "    param_f = kwargs.get(\"f\")\n",
    "    param_g = kwargs.get(\"g\")\n",
    "    param_h = kwargs.get(\"h\")\n",
    "    \n",
    "    print(param_a)\n",
    "    print(kwargs)"
   ]
  },
  {
   "cell_type": "code",
   "execution_count": 33,
   "metadata": {},
   "outputs": [
    {
     "name": "stdout",
     "output_type": "stream",
     "text": [
      "1\n",
      "{'a': 1, 'b': 2}\n"
     ]
    }
   ],
   "source": [
    "print_dict(a=1,b=2)"
   ]
  },
  {
   "cell_type": "code",
   "execution_count": 36,
   "metadata": {},
   "outputs": [
    {
     "name": "stdout",
     "output_type": "stream",
     "text": [
      "[1, 2, 3, 4]\n",
      "1 2 3 4\n"
     ]
    }
   ],
   "source": [
    "a = [1,2,3,4]\n",
    "print(a)\n",
    "print(*a)\n",
    "# *を入れることで、unpackされる。**も同じ。"
   ]
  },
  {
   "cell_type": "code",
   "execution_count": 37,
   "metadata": {},
   "outputs": [],
   "source": [
    "def func(a,b):\n",
    "#     複数の戻り値を返すことができる。その場合はTapleで戻る。\n",
    "    return a +10,b+10"
   ]
  },
  {
   "cell_type": "code",
   "execution_count": 42,
   "metadata": {},
   "outputs": [
    {
     "name": "stdout",
     "output_type": "stream",
     "text": [
      "(11, 12)\n",
      "11 12\n",
      "13 14\n"
     ]
    }
   ],
   "source": [
    "#　Tapleで戻ってきたものは変数への入れ方で自動的にunpackされる\n",
    "x = func(1,2)\n",
    "a , b = func(3,4)\n",
    "c,d = x\n",
    "print(x)\n",
    "print(c,d)\n",
    "print(a,b)"
   ]
  },
  {
   "cell_type": "code",
   "execution_count": null,
   "metadata": {},
   "outputs": [],
   "source": []
  }
 ],
 "metadata": {
  "kernelspec": {
   "display_name": "Python 3",
   "language": "python",
   "name": "python3"
  },
  "language_info": {
   "codemirror_mode": {
    "name": "ipython",
    "version": 3
   },
   "file_extension": ".py",
   "mimetype": "text/x-python",
   "name": "python",
   "nbconvert_exporter": "python",
   "pygments_lexer": "ipython3",
   "version": "3.7.6"
  }
 },
 "nbformat": 4,
 "nbformat_minor": 4
}
